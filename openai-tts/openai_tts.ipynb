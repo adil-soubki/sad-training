{
 "cells": [
  {
   "cell_type": "code",
   "execution_count": 20,
   "metadata": {},
   "outputs": [],
   "source": [
    "import asyncio\n",
    "import datetime\n",
    "import hashlib\n",
    "import operator\n",
    "import os\n",
    "import time\n",
    "from typing import Any\n",
    "import sys\n",
    "import backoff\n",
    "import pandas as pd\n",
    "from more_itertools import chunked\n",
    "from tqdm import tqdm\n"
   ]
  },
  {
   "cell_type": "code",
   "execution_count": 4,
   "metadata": {},
   "outputs": [
    {
     "ename": "ModuleNotFoundError",
     "evalue": "No module named 'src'",
     "output_type": "error",
     "traceback": [
      "\u001b[0;31m---------------------------------------------------------------------------\u001b[0m",
      "\u001b[0;31mModuleNotFoundError\u001b[0m                       Traceback (most recent call last)",
      "Cell \u001b[0;32mIn[4], line 11\u001b[0m\n\u001b[1;32m      7\u001b[0m \u001b[38;5;28;01mfrom\u001b[39;00m \u001b[38;5;21;01mtqdm\u001b[39;00m \u001b[38;5;28;01mimport\u001b[39;00m tqdm\n\u001b[1;32m      9\u001b[0m sys\u001b[38;5;241m.\u001b[39mpath\u001b[38;5;241m.\u001b[39mappend(os\u001b[38;5;241m.\u001b[39mpath\u001b[38;5;241m.\u001b[39mdirname(os\u001b[38;5;241m.\u001b[39mpath\u001b[38;5;241m.\u001b[39mdirname(os\u001b[38;5;241m.\u001b[39mpath\u001b[38;5;241m.\u001b[39mabspath(\u001b[38;5;124m'\u001b[39m\u001b[38;5;124m.\u001b[39m\u001b[38;5;124m'\u001b[39m))))\n\u001b[0;32m---> 11\u001b[0m \u001b[38;5;28;01mfrom\u001b[39;00m \u001b[38;5;21;01msrc\u001b[39;00m\u001b[38;5;21;01m.\u001b[39;00m\u001b[38;5;21;01mcore\u001b[39;00m \u001b[38;5;28;01mimport\u001b[39;00m keychain\n\u001b[1;32m     13\u001b[0m \u001b[38;5;28;01mimport\u001b[39;00m \u001b[38;5;21;01mopenai\u001b[39;00m\n\u001b[1;32m     14\u001b[0m \u001b[38;5;28;01mfrom\u001b[39;00m \u001b[38;5;21;01mopenai\u001b[39;00m \u001b[38;5;28;01mimport\u001b[39;00m AsyncOpenAI\n",
      "\u001b[0;31mModuleNotFoundError\u001b[0m: No module named 'src'"
     ]
    }
   ],
   "source": [
    "import asyncio\n",
    "import os\n",
    "import sys\n",
    "import backoff\n",
    "import pandas as pd\n",
    "from more_itertools import chunked\n",
    "from tqdm import tqdm\n",
    "\n",
    "sys.path.append(os.path.dirname(os.path.dirname(os.path.abspath('.'))))\n",
    "\n",
    "from src.core import keychain\n",
    "\n",
    "import openai\n",
    "from openai import AsyncOpenAI\n",
    "\n",
    "client = AsyncOpenAI(api_key=keychain.get(\"IACS\"))\n",
    "\n",
    "def save_audio(audio_contents, corpus_name, voice, filename):\n",
    "    for i, audio in enumerate(audio_contents):\n",
    "        # Check if the directory exists, create it if it doesn't\n",
    "        os.makedirs(f\"audio/{corpus_name}/{voice}\", exist_ok=True)\n",
    "        with open(f\"audio/{corpus_name}/{voice}/{voice}_{filename}.wav\", \"wb\") as f:\n",
    "            f.write(audio)\n",
    "\n",
    "@backoff.on_exception(backoff.expo, openai.RateLimitError)\n",
    "async def generate_audio(text: str, voice: str) -> bytes:\n",
    "    response = await client.audio.speech.create(\n",
    "        model=\"tts-1-hd\",\n",
    "        voice=voice,\n",
    "        input=text,\n",
    "        response_format=\"wav\"\n",
    "    )\n",
    "    return response.content\n",
    "\n",
    "async def generate_multiple_audios(texts: list[str], batch_size: int = 10, voice: str = \"alloy\") -> list[bytes]:\n",
    "    all_audio_contents = []\n",
    "    for batch in tqdm(list(chunked(texts, batch_size)), desc=\"Processing batches\"):\n",
    "        tasks = [generate_audio(text, voice) for text in batch]\n",
    "        batch_results = await asyncio.gather(*tasks)\n",
    "        all_audio_contents.extend(batch_results)\n",
    "    return all_audio_contents\n",
    "\n",
    "async def generate_and_save_audio(corpus_name: str, texts: list[str], files: list[str], batch_size: int = 10):\n",
    "    voices = [\"alloy\"]\n",
    "    for voice in voices:\n",
    "        audio_contents = await generate_multiple_audios(texts, batch_size, voice)\n",
    "        save_audio(audio_contents, \"cb\", voice, files)\n",
    "\n",
    "async def main():\n",
    "    cb_data = pd.read_json(\"../data/cb/annotations.jsonl\", lines=True)\n",
    "    cb_texts = cb_data[\"turn\"].tolist()\n",
    "    cb_texts = cb_texts[:10]\n",
    "    files = cb_data[\"audio_file\"].tolist()\n",
    "    files = files[:10]\n",
    "    await generate_and_save_audio(\"cb\", cb_texts, files, batch_size=30)\n",
    "\n",
    "if __name__ == \"__main__\":\n",
    "    asyncio.run(main())"
   ]
  },
  {
   "cell_type": "code",
   "execution_count": 27,
   "metadata": {},
   "outputs": [],
   "source": [
    "cb_data = pd.read_json(\"../data/cb/annotations.jsonl\", lines=True)\n",
    "cb_texts = cb_data[\"turn\"]"
   ]
  },
  {
   "cell_type": "code",
   "execution_count": 30,
   "metadata": {},
   "outputs": [],
   "source": [
    "from src.core import keychain\n",
    "\n",
    "import openai\n",
    "from openai import AsyncOpenAI\n",
    "\n",
    "client = AsyncOpenAI(api_key=keychain.get(\"IACS\"))\n",
    "\n",
    "voices = [\"alloy\", \"echo\", \"fable\", \"onyx\", \"nova\", \"shimmer\"]\n",
    "\n",
    "def save_audio(audio_contents, corpus_name, voice):\n",
    "    for i, audio in enumerate(audio_contents):\n",
    "        # Check if the directory exists, create it if it doesn't\n",
    "        os.makedirs(f\"audio/{corpus_name}\", exist_ok=True)\n",
    "        with open(f\"audio/{corpus_name}/{voice}_audio_{i}.wav\", \"wb\") as f:\n",
    "            f.write(audio)\n",
    "\n",
    "@backoff.on_exception(backoff.expo, openai.RateLimitError)\n",
    "async def generate_audio(text: str, voice: str) -> bytes:\n",
    "    response = await client.audio.speech.create(\n",
    "        model=\"tts-1-hd\",\n",
    "        voice=voice,\n",
    "        input=text,\n",
    "        response_format=\"mp3\"\n",
    "    )\n",
    "    return response.content\n",
    "\n",
    "async def generate_multiple_audios(texts: list[str], batch_size: int = 10, voice: str = \"alloy\") -> list[bytes]:\n",
    "    all_audio_contents = []\n",
    "    for batch in tqdm(list(chunked(texts, batch_size)), desc=\"Processing batches\"):\n",
    "        tasks = [generate_audio(text, voice) for text in batch]\n",
    "        batch_results = await asyncio.gather(*tasks)\n",
    "        all_audio_contents.extend(batch_results)\n",
    "    return all_audio_contents\n",
    "\n",
    "batch_size = 10  # Adjust this value based on your needs\n",
    "for voice in voices:\n",
    "    audio_contents = await generate_multiple_audios(cb_texts, batch_size, voice)\n",
    "    save_audio(audio_contents, \"cb\", voice)\n",
    "\n"
   ]
  },
  {
   "cell_type": "code",
   "execution_count": 29,
   "metadata": {},
   "outputs": [
    {
     "name": "stderr",
     "output_type": "stream",
     "text": [
      "Processing batches: 100%|██████████| 34/34 [06:10<00:00, 10.89s/it]\n"
     ]
    },
    {
     "ename": "FileNotFoundError",
     "evalue": "[Errno 2] No such file or directory: 'audio/cb/audio_0.mp3'",
     "output_type": "error",
     "traceback": [
      "\u001b[0;31m---------------------------------------------------------------------------\u001b[0m",
      "\u001b[0;31mFileNotFoundError\u001b[0m                         Traceback (most recent call last)",
      "Cell \u001b[0;32mIn[29], line 4\u001b[0m\n\u001b[1;32m      2\u001b[0m batch_size \u001b[38;5;241m=\u001b[39m \u001b[38;5;241m10\u001b[39m  \u001b[38;5;66;03m# Adjust this value based on your needs\u001b[39;00m\n\u001b[1;32m      3\u001b[0m audio_contents \u001b[38;5;241m=\u001b[39m \u001b[38;5;28;01mawait\u001b[39;00m generate_multiple_audios(cb_texts, batch_size)\n\u001b[0;32m----> 4\u001b[0m \u001b[43msave_audio\u001b[49m\u001b[43m(\u001b[49m\u001b[43maudio_contents\u001b[49m\u001b[43m,\u001b[49m\u001b[43m \u001b[49m\u001b[38;5;124;43m\"\u001b[39;49m\u001b[38;5;124;43mcb\u001b[39;49m\u001b[38;5;124;43m\"\u001b[39;49m\u001b[43m)\u001b[49m\n",
      "Cell \u001b[0;32mIn[28], line 12\u001b[0m, in \u001b[0;36msave_audio\u001b[0;34m(audio_contents, corpus_name)\u001b[0m\n\u001b[1;32m     10\u001b[0m \u001b[38;5;28;01mdef\u001b[39;00m \u001b[38;5;21msave_audio\u001b[39m(audio_contents, corpus_name):\n\u001b[1;32m     11\u001b[0m     \u001b[38;5;28;01mfor\u001b[39;00m i, audio \u001b[38;5;129;01min\u001b[39;00m \u001b[38;5;28menumerate\u001b[39m(audio_contents):\n\u001b[0;32m---> 12\u001b[0m         \u001b[38;5;28;01mwith\u001b[39;00m \u001b[38;5;28;43mopen\u001b[39;49m\u001b[43m(\u001b[49m\u001b[38;5;124;43mf\u001b[39;49m\u001b[38;5;124;43m\"\u001b[39;49m\u001b[38;5;124;43maudio/\u001b[39;49m\u001b[38;5;132;43;01m{\u001b[39;49;00m\u001b[43mcorpus_name\u001b[49m\u001b[38;5;132;43;01m}\u001b[39;49;00m\u001b[38;5;124;43m/audio_\u001b[39;49m\u001b[38;5;132;43;01m{\u001b[39;49;00m\u001b[43mi\u001b[49m\u001b[38;5;132;43;01m}\u001b[39;49;00m\u001b[38;5;124;43m.mp3\u001b[39;49m\u001b[38;5;124;43m\"\u001b[39;49m\u001b[43m,\u001b[49m\u001b[43m \u001b[49m\u001b[38;5;124;43m\"\u001b[39;49m\u001b[38;5;124;43mwb\u001b[39;49m\u001b[38;5;124;43m\"\u001b[39;49m\u001b[43m)\u001b[49m \u001b[38;5;28;01mas\u001b[39;00m f:\n\u001b[1;32m     13\u001b[0m             f\u001b[38;5;241m.\u001b[39mwrite(audio)\n",
      "File \u001b[0;32m~/.conda/envs/prune_llm/lib/python3.9/site-packages/IPython/core/interactiveshell.py:284\u001b[0m, in \u001b[0;36m_modified_open\u001b[0;34m(file, *args, **kwargs)\u001b[0m\n\u001b[1;32m    277\u001b[0m \u001b[38;5;28;01mif\u001b[39;00m file \u001b[38;5;129;01min\u001b[39;00m {\u001b[38;5;241m0\u001b[39m, \u001b[38;5;241m1\u001b[39m, \u001b[38;5;241m2\u001b[39m}:\n\u001b[1;32m    278\u001b[0m     \u001b[38;5;28;01mraise\u001b[39;00m \u001b[38;5;167;01mValueError\u001b[39;00m(\n\u001b[1;32m    279\u001b[0m         \u001b[38;5;124mf\u001b[39m\u001b[38;5;124m\"\u001b[39m\u001b[38;5;124mIPython won\u001b[39m\u001b[38;5;124m'\u001b[39m\u001b[38;5;124mt let you open fd=\u001b[39m\u001b[38;5;132;01m{\u001b[39;00mfile\u001b[38;5;132;01m}\u001b[39;00m\u001b[38;5;124m by default \u001b[39m\u001b[38;5;124m\"\u001b[39m\n\u001b[1;32m    280\u001b[0m         \u001b[38;5;124m\"\u001b[39m\u001b[38;5;124mas it is likely to crash IPython. If you know what you are doing, \u001b[39m\u001b[38;5;124m\"\u001b[39m\n\u001b[1;32m    281\u001b[0m         \u001b[38;5;124m\"\u001b[39m\u001b[38;5;124myou can use builtins\u001b[39m\u001b[38;5;124m'\u001b[39m\u001b[38;5;124m open.\u001b[39m\u001b[38;5;124m\"\u001b[39m\n\u001b[1;32m    282\u001b[0m     )\n\u001b[0;32m--> 284\u001b[0m \u001b[38;5;28;01mreturn\u001b[39;00m \u001b[43mio_open\u001b[49m\u001b[43m(\u001b[49m\u001b[43mfile\u001b[49m\u001b[43m,\u001b[49m\u001b[43m \u001b[49m\u001b[38;5;241;43m*\u001b[39;49m\u001b[43margs\u001b[49m\u001b[43m,\u001b[49m\u001b[43m \u001b[49m\u001b[38;5;241;43m*\u001b[39;49m\u001b[38;5;241;43m*\u001b[39;49m\u001b[43mkwargs\u001b[49m\u001b[43m)\u001b[49m\n",
      "\u001b[0;31mFileNotFoundError\u001b[0m: [Errno 2] No such file or directory: 'audio/cb/audio_0.mp3'"
     ]
    }
   ],
   "source": [
    "batch_size = 10  # Adjust this value based on your needs\n",
    "for voice in voices:\n",
    "    audio_contents = await generate_multiple_audios(cb_texts, batch_size, voice)\n",
    "    save_audio(audio_contents, \"cb\", voice)\n"
   ]
  },
  {
   "cell_type": "code",
   "execution_count": 32,
   "metadata": {},
   "outputs": [],
   "source": [
    "voice = \"shimmer\"\n",
    "save_audio(audio_contents, \"cb\", voice)\n"
   ]
  }
 ],
 "metadata": {
  "kernelspec": {
   "display_name": "prune_llm",
   "language": "python",
   "name": "python3"
  },
  "language_info": {
   "codemirror_mode": {
    "name": "ipython",
    "version": 3
   },
   "file_extension": ".py",
   "mimetype": "text/x-python",
   "name": "python",
   "nbconvert_exporter": "python",
   "pygments_lexer": "ipython3",
   "version": "3.9.18"
  }
 },
 "nbformat": 4,
 "nbformat_minor": 2
}
